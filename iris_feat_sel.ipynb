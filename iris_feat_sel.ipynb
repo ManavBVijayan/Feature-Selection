{
 "cells": [
  {
   "cell_type": "code",
   "execution_count": 1,
   "id": "d03235bc-5746-47b4-8a12-4ada4de73642",
   "metadata": {},
   "outputs": [],
   "source": [
    "import pandas as pd\n",
    "import matplotlib.pyplot as plt\n",
    "import seaborn as sns\n",
    "import numpy as np"
   ]
  },
  {
   "cell_type": "code",
   "execution_count": 2,
   "id": "8eab2d19-f806-403f-918f-f49cbba41630",
   "metadata": {},
   "outputs": [
    {
     "data": {
      "text/html": [
       "<div>\n",
       "<style scoped>\n",
       "    .dataframe tbody tr th:only-of-type {\n",
       "        vertical-align: middle;\n",
       "    }\n",
       "\n",
       "    .dataframe tbody tr th {\n",
       "        vertical-align: top;\n",
       "    }\n",
       "\n",
       "    .dataframe thead th {\n",
       "        text-align: right;\n",
       "    }\n",
       "</style>\n",
       "<table border=\"1\" class=\"dataframe\">\n",
       "  <thead>\n",
       "    <tr style=\"text-align: right;\">\n",
       "      <th></th>\n",
       "      <th>SL</th>\n",
       "      <th>SW</th>\n",
       "      <th>PL</th>\n",
       "      <th>PW</th>\n",
       "      <th>Classification</th>\n",
       "    </tr>\n",
       "  </thead>\n",
       "  <tbody>\n",
       "    <tr>\n",
       "      <th>0</th>\n",
       "      <td>5.1</td>\n",
       "      <td>3.5</td>\n",
       "      <td>1.4</td>\n",
       "      <td>0.2</td>\n",
       "      <td>Iris-setosa</td>\n",
       "    </tr>\n",
       "    <tr>\n",
       "      <th>1</th>\n",
       "      <td>4.9</td>\n",
       "      <td>3.0</td>\n",
       "      <td>1.4</td>\n",
       "      <td>0.2</td>\n",
       "      <td>Iris-setosa</td>\n",
       "    </tr>\n",
       "    <tr>\n",
       "      <th>2</th>\n",
       "      <td>4.7</td>\n",
       "      <td>3.2</td>\n",
       "      <td>1.3</td>\n",
       "      <td>0.2</td>\n",
       "      <td>Iris-setosa</td>\n",
       "    </tr>\n",
       "    <tr>\n",
       "      <th>3</th>\n",
       "      <td>4.6</td>\n",
       "      <td>3.1</td>\n",
       "      <td>1.5</td>\n",
       "      <td>0.2</td>\n",
       "      <td>Iris-setosa</td>\n",
       "    </tr>\n",
       "    <tr>\n",
       "      <th>4</th>\n",
       "      <td>5.0</td>\n",
       "      <td>3.6</td>\n",
       "      <td>1.4</td>\n",
       "      <td>0.2</td>\n",
       "      <td>Iris-setosa</td>\n",
       "    </tr>\n",
       "    <tr>\n",
       "      <th>...</th>\n",
       "      <td>...</td>\n",
       "      <td>...</td>\n",
       "      <td>...</td>\n",
       "      <td>...</td>\n",
       "      <td>...</td>\n",
       "    </tr>\n",
       "    <tr>\n",
       "      <th>145</th>\n",
       "      <td>6.7</td>\n",
       "      <td>3.0</td>\n",
       "      <td>5.2</td>\n",
       "      <td>2.3</td>\n",
       "      <td>Iris-virginica</td>\n",
       "    </tr>\n",
       "    <tr>\n",
       "      <th>146</th>\n",
       "      <td>6.3</td>\n",
       "      <td>2.5</td>\n",
       "      <td>5.0</td>\n",
       "      <td>1.9</td>\n",
       "      <td>Iris-virginica</td>\n",
       "    </tr>\n",
       "    <tr>\n",
       "      <th>147</th>\n",
       "      <td>6.5</td>\n",
       "      <td>3.0</td>\n",
       "      <td>5.2</td>\n",
       "      <td>2.0</td>\n",
       "      <td>Iris-virginica</td>\n",
       "    </tr>\n",
       "    <tr>\n",
       "      <th>148</th>\n",
       "      <td>6.2</td>\n",
       "      <td>3.4</td>\n",
       "      <td>5.4</td>\n",
       "      <td>2.3</td>\n",
       "      <td>Iris-virginica</td>\n",
       "    </tr>\n",
       "    <tr>\n",
       "      <th>149</th>\n",
       "      <td>5.9</td>\n",
       "      <td>3.0</td>\n",
       "      <td>5.1</td>\n",
       "      <td>1.8</td>\n",
       "      <td>Iris-virginica</td>\n",
       "    </tr>\n",
       "  </tbody>\n",
       "</table>\n",
       "<p>150 rows × 5 columns</p>\n",
       "</div>"
      ],
      "text/plain": [
       "      SL   SW   PL   PW  Classification\n",
       "0    5.1  3.5  1.4  0.2     Iris-setosa\n",
       "1    4.9  3.0  1.4  0.2     Iris-setosa\n",
       "2    4.7  3.2  1.3  0.2     Iris-setosa\n",
       "3    4.6  3.1  1.5  0.2     Iris-setosa\n",
       "4    5.0  3.6  1.4  0.2     Iris-setosa\n",
       "..   ...  ...  ...  ...             ...\n",
       "145  6.7  3.0  5.2  2.3  Iris-virginica\n",
       "146  6.3  2.5  5.0  1.9  Iris-virginica\n",
       "147  6.5  3.0  5.2  2.0  Iris-virginica\n",
       "148  6.2  3.4  5.4  2.3  Iris-virginica\n",
       "149  5.9  3.0  5.1  1.8  Iris-virginica\n",
       "\n",
       "[150 rows x 5 columns]"
      ]
     },
     "execution_count": 2,
     "metadata": {},
     "output_type": "execute_result"
    }
   ],
   "source": [
    "data=pd.read_excel(\"iris.xls\")\n",
    "data"
   ]
  },
  {
   "cell_type": "code",
   "execution_count": 3,
   "id": "923888f7-042f-44d1-bdb6-1054f244c36c",
   "metadata": {
    "scrolled": true
   },
   "outputs": [
    {
     "name": "stdout",
     "output_type": "stream",
     "text": [
      "<class 'pandas.core.frame.DataFrame'>\n",
      "RangeIndex: 150 entries, 0 to 149\n",
      "Data columns (total 5 columns):\n",
      " #   Column          Non-Null Count  Dtype  \n",
      "---  ------          --------------  -----  \n",
      " 0   SL              150 non-null    float64\n",
      " 1   SW              150 non-null    float64\n",
      " 2   PL              150 non-null    float64\n",
      " 3   PW              150 non-null    float64\n",
      " 4   Classification  150 non-null    object \n",
      "dtypes: float64(4), object(1)\n",
      "memory usage: 6.0+ KB\n"
     ]
    }
   ],
   "source": [
    "data.info()"
   ]
  },
  {
   "cell_type": "code",
   "execution_count": 4,
   "id": "2487bfcd-7cbb-4bc2-b4b0-4b1a39793b98",
   "metadata": {},
   "outputs": [
    {
     "data": {
      "text/plain": [
       "SL                0\n",
       "SW                0\n",
       "PL                0\n",
       "PW                0\n",
       "Classification    0\n",
       "dtype: int64"
      ]
     },
     "execution_count": 4,
     "metadata": {},
     "output_type": "execute_result"
    }
   ],
   "source": [
    "data.isna().sum()"
   ]
  },
  {
   "cell_type": "code",
   "execution_count": 5,
   "id": "da0c4af0-1e91-4cc4-b920-ccf9e7a2e944",
   "metadata": {},
   "outputs": [
    {
     "data": {
      "text/plain": [
       "<Axes: >"
      ]
     },
     "execution_count": 5,
     "metadata": {},
     "output_type": "execute_result"
    },
    {
     "data": {
      "image/png": "[encoded data removed]",
      "text/plain": [
       "<Figure size 640x480 with 1 Axes>"
      ]
     },
     "metadata": {},
     "output_type": "display_data"
    }
   ],
   "source": [
    "sns.boxplot(data)"
   ]
  },
  {
   "cell_type": "code",
   "execution_count": 6,
   "id": "82e3e984-bb48-4966-bf81-f3aa50b135a9",
   "metadata": {},
   "outputs": [],
   "source": [
    "q1=np.percentile(data[\"SW\"],25)\n",
    "q3=np.percentile(data[\"SW\"],75)\n",
    "iqr=q3-q1\n",
    "lower_bound=q1-1.5*iqr\n",
    "upper_bound=q3+1.5*iqr\n",
    "data.loc[data[\"SW\"] > upper_bound, \"SW\"] = upper_bound\n",
    "data.loc[data[\"SW\"] < lower_bound, \"SW\"] = lower_bound"
   ]
  },
  {
   "cell_type": "code",
   "execution_count": 7,
   "id": "0a11a26b-8556-4e1c-9618-6aa5c039ff20",
   "metadata": {},
   "outputs": [
    {
     "data": {
      "text/plain": [
       "<Axes: >"
      ]
     },
     "execution_count": 7,
     "metadata": {},
     "output_type": "execute_result"
    },
    {
     "data": {
      "image/png": "[encoded data removed]",
      "text/plain": [
       "<Figure size 640x480 with 1 Axes>"
      ]
     },
     "metadata": {},
     "output_type": "display_data"
    }
   ],
   "source": [
    "sns.boxplot(data)"
   ]
  },
  {
   "cell_type": "code",
   "execution_count": 8,
   "id": "ee61e5c2-0eb5-47ad-829e-33ede23c3604",
   "metadata": {},
   "outputs": [],
   "source": [
    "X=data.drop([\"Classification\"],axis=1)\n",
    "y=data[\"Classification\"]"
   ]
  },
  {
   "cell_type": "code",
   "execution_count": 9,
   "id": "60ca21ed-82c4-4010-b5ff-cd7ecc3b318b",
   "metadata": {},
   "outputs": [],
   "source": [
    "from sklearn.model_selection import train_test_split\n",
    "X_train,X_test,y_train,y_test=train_test_split(X,y,test_size=.2,random_state=42)"
   ]
  },
  {
   "cell_type": "code",
   "execution_count": 10,
   "id": "1b4d4f1a-b4db-4a43-b26f-e1f3ca3a3b46",
   "metadata": {},
   "outputs": [],
   "source": [
    "from sklearn.feature_selection import SelectKBest,f_classif"
   ]
  },
  {
   "cell_type": "code",
   "execution_count": 11,
   "id": "d451ff8e-c679-45a7-b7fa-0cf6ab456a87",
   "metadata": {},
   "outputs": [],
   "source": [
    "k=3\n",
    "selector=SelectKBest(f_classif,k=k)\n",
    "sel_X_train=selector.fit_transform(X_train,y_train)\n",
    "sel_X_test=selector.transform(X_test)"
   ]
  },
  {
   "cell_type": "code",
   "execution_count": 12,
   "id": "dc6375b0-6855-44bf-9f53-abbb206718a8",
   "metadata": {},
   "outputs": [
    {
     "data": {
      "text/plain": [
       "array([[4.6, 1. , 0.2],\n",
       "       [5.7, 1.5, 0.4],\n",
       "       [6.7, 4.4, 1.4],\n",
       "       [4.8, 1.6, 0.2],\n",
       "       [4.4, 1.3, 0.2],\n",
       "       [6.3, 5. , 1.9],\n",
       "       [6.4, 4.5, 1.5],\n",
       "       [5.2, 1.5, 0.2],\n",
       "       [5. , 1.4, 0.2],\n",
       "       [5.2, 1.5, 0.1],\n",
       "       [5.8, 5.1, 1.9],\n",
       "       [6. , 4.5, 1.6],\n",
       "       [6.7, 4.7, 1.5],\n",
       "       [5.4, 1.3, 0.4],\n",
       "       [5.4, 1.5, 0.2],\n",
       "       [5.5, 3.7, 1. ],\n",
       "       [6.3, 5.1, 1.5],\n",
       "       [6.4, 5.5, 1.8],\n",
       "       [6.6, 4.4, 1.4],\n",
       "       [7.2, 6.1, 2.5],\n",
       "       [5.7, 4.2, 1.3],\n",
       "       [7.6, 6.6, 2.1],\n",
       "       [5.6, 4.5, 1.5],\n",
       "       [5.1, 1.4, 0.2],\n",
       "       [7.7, 6.7, 2. ],\n",
       "       [5.8, 4.1, 1. ],\n",
       "       [5.2, 1.4, 0.2],\n",
       "       [5. , 1.3, 0.3],\n",
       "       [5.1, 1.9, 0.4],\n",
       "       [5. , 3.5, 1. ],\n",
       "       [6.3, 4.9, 1.8],\n",
       "       [4.8, 1.9, 0.2],\n",
       "       [5. , 1.6, 0.2],\n",
       "       [5.1, 1.7, 0.5],\n",
       "       [5.6, 4.2, 1.3],\n",
       "       [5.1, 1.5, 0.2],\n",
       "       [5.7, 4.2, 1.2],\n",
       "       [7.7, 6.7, 2.2],\n",
       "       [4.6, 1.4, 0.2],\n",
       "       [6.2, 4.3, 1.3],\n",
       "       [5.7, 5. , 2. ],\n",
       "       [5.5, 1.4, 0.2],\n",
       "       [6. , 4.8, 1.8],\n",
       "       [5.8, 5.1, 1.9],\n",
       "       [6. , 4. , 1. ],\n",
       "       [5.4, 4.5, 1.5],\n",
       "       [6.2, 5.4, 2.3],\n",
       "       [5.5, 4. , 1.3],\n",
       "       [5.4, 1.7, 0.4],\n",
       "       [5. , 3.3, 1. ],\n",
       "       [6.4, 5.3, 1.9],\n",
       "       [5. , 1.4, 0.2],\n",
       "       [5. , 1.2, 0.2],\n",
       "       [5.5, 3.8, 1.1],\n",
       "       [6.7, 5. , 1.7],\n",
       "       [4.9, 1.5, 0.1],\n",
       "       [5.8, 5.1, 2.4],\n",
       "       [5. , 1.5, 0.2],\n",
       "       [5. , 1.6, 0.6],\n",
       "       [5.9, 4.8, 1.8],\n",
       "       [5.1, 3. , 1.1],\n",
       "       [6.9, 5.7, 2.3],\n",
       "       [6. , 5.1, 1.6],\n",
       "       [6.1, 5.6, 1.4],\n",
       "       [7.7, 6.1, 2.3],\n",
       "       [5.5, 4. , 1.3],\n",
       "       [4.4, 1.4, 0.2],\n",
       "       [4.3, 1.1, 0.1],\n",
       "       [6. , 5. , 1.5],\n",
       "       [7.2, 6. , 1.8],\n",
       "       [4.6, 1.5, 0.2],\n",
       "       [5.1, 1.4, 0.3],\n",
       "       [4.4, 1.3, 0.2],\n",
       "       [6.3, 4.9, 1.5],\n",
       "       [6.3, 5.6, 2.4],\n",
       "       [4.6, 1.4, 0.3],\n",
       "       [6.8, 5.5, 2.1],\n",
       "       [6.3, 6. , 2.5],\n",
       "       [4.7, 1.3, 0.2],\n",
       "       [6.1, 4.7, 1.4],\n",
       "       [6.5, 4.6, 1.5],\n",
       "       [6.2, 4.8, 1.8],\n",
       "       [7. , 4.7, 1.4],\n",
       "       [6.4, 5.3, 2.3],\n",
       "       [5.1, 1.6, 0.2],\n",
       "       [6.9, 5.4, 2.1],\n",
       "       [5.9, 4.2, 1.5],\n",
       "       [6.5, 5.2, 2. ],\n",
       "       [5.7, 3.5, 1. ],\n",
       "       [5.2, 3.9, 1.4],\n",
       "       [6.1, 4.6, 1.4],\n",
       "       [4.5, 1.3, 0.3],\n",
       "       [6.6, 4.6, 1.3],\n",
       "       [5.5, 4.4, 1.2],\n",
       "       [5.3, 1.5, 0.2],\n",
       "       [5.6, 4.1, 1.3],\n",
       "       [7.3, 6.3, 1.8],\n",
       "       [6.7, 5.7, 2.1],\n",
       "       [5.1, 1.5, 0.4],\n",
       "       [4.9, 3.3, 1. ],\n",
       "       [6.7, 5.7, 2.5],\n",
       "       [7.2, 5.8, 1.6],\n",
       "       [4.9, 1.5, 0.1],\n",
       "       [6.7, 5.6, 2.4],\n",
       "       [4.9, 1.4, 0.2],\n",
       "       [6.9, 4.9, 1.5],\n",
       "       [7.4, 6.1, 1.9],\n",
       "       [6.3, 5.6, 1.8],\n",
       "       [5.7, 4.1, 1.3],\n",
       "       [6.5, 5.5, 1.8],\n",
       "       [6.3, 4.4, 1.3],\n",
       "       [6.4, 4.3, 1.3],\n",
       "       [5.6, 4.9, 2. ],\n",
       "       [5.9, 5.1, 1.8],\n",
       "       [5.4, 1.7, 0.2],\n",
       "       [6.1, 4. , 1.3],\n",
       "       [4.9, 4.5, 1.7],\n",
       "       [5.8, 1.2, 0.2],\n",
       "       [5.8, 4. , 1.2],\n",
       "       [7.1, 5.9, 2.1]])"
      ]
     },
     "execution_count": 12,
     "metadata": {},
     "output_type": "execute_result"
    }
   ],
   "source": [
    "sel_X_train"
   ]
  },
  {
   "cell_type": "code",
   "execution_count": 13,
   "id": "a861ad89-108a-4153-9626-1b7c244d75c5",
   "metadata": {},
   "outputs": [],
   "source": [
    "from sklearn.ensemble import RandomForestClassifier\n",
    "from sklearn.metrics import accuracy_score"
   ]
  },
  {
   "cell_type": "code",
   "execution_count": 14,
   "id": "397ffa42-e1e3-4bd0-bd1d-3fe3c50c421a",
   "metadata": {},
   "outputs": [],
   "source": [
    "model=RandomForestClassifier(random_state=42)"
   ]
  },
  {
   "cell_type": "code",
   "execution_count": 16,
   "id": "ed21f9aa-aa47-4027-854a-3cf50faa3b6d",
   "metadata": {},
   "outputs": [
    {
     "data": {
      "text/html": [
       "<style>#sk-container-id-1 {color: black;}#sk-container-id-1 pre{padding: 0;}#sk-container-id-1 div.sk-toggleable {background-color: white;}#sk-container-id-1 label.sk-toggleable__label {cursor: pointer;display: block;width: 100%;margin-bottom: 0;padding: 0.3em;box-sizing: border-box;text-align: center;}#sk-container-id-1 label.sk-toggleable__label-arrow:before {content: \"▸\";float: left;margin-right: 0.25em;color: #696969;}#sk-container-id-1 label.sk-toggleable__label-arrow:hover:before {color: black;}#sk-container-id-1 div.sk-estimator:hover label.sk-toggleable__label-arrow:before {color: black;}#sk-container-id-1 div.sk-toggleable__content {max-height: 0;max-width: 0;overflow: hidden;text-align: left;background-color: #f0f8ff;}#sk-container-id-1 div.sk-toggleable__content pre {margin: 0.2em;color: black;border-radius: 0.25em;background-color: #f0f8ff;}#sk-container-id-1 input.sk-toggleable__control:checked~div.sk-toggleable__content {max-height: 200px;max-width: 100%;overflow: auto;}#sk-container-id-1 input.sk-toggleable__control:checked~label.sk-toggleable__label-arrow:before {content: \"▾\";}#sk-container-id-1 div.sk-estimator input.sk-toggleable__control:checked~label.sk-toggleable__label {background-color: #d4ebff;}#sk-container-id-1 div.sk-label input.sk-toggleable__control:checked~label.sk-toggleable__label {background-color: #d4ebff;}#sk-container-id-1 input.sk-hidden--visually {border: 0;clip: rect(1px 1px 1px 1px);clip: rect(1px, 1px, 1px, 1px);height: 1px;margin: -1px;overflow: hidden;padding: 0;position: absolute;width: 1px;}#sk-container-id-1 div.sk-estimator {font-family: monospace;background-color: #f0f8ff;border: 1px dotted black;border-radius: 0.25em;box-sizing: border-box;margin-bottom: 0.5em;}#sk-container-id-1 div.sk-estimator:hover {background-color: #d4ebff;}#sk-container-id-1 div.sk-parallel-item::after {content: \"\";width: 100%;border-bottom: 1px solid gray;flex-grow: 1;}#sk-container-id-1 div.sk-label:hover label.sk-toggleable__label {background-color: #d4ebff;}#sk-container-id-1 div.sk-serial::before {content: \"\";position: absolute;border-left: 1px solid gray;box-sizing: border-box;top: 0;bottom: 0;left: 50%;z-index: 0;}#sk-container-id-1 div.sk-serial {display: flex;flex-direction: column;align-items: center;background-color: white;padding-right: 0.2em;padding-left: 0.2em;position: relative;}#sk-container-id-1 div.sk-item {position: relative;z-index: 1;}#sk-container-id-1 div.sk-parallel {display: flex;align-items: stretch;justify-content: center;background-color: white;position: relative;}#sk-container-id-1 div.sk-item::before, #sk-container-id-1 div.sk-parallel-item::before {content: \"\";position: absolute;border-left: 1px solid gray;box-sizing: border-box;top: 0;bottom: 0;left: 50%;z-index: -1;}#sk-container-id-1 div.sk-parallel-item {display: flex;flex-direction: column;z-index: 1;position: relative;background-color: white;}#sk-container-id-1 div.sk-parallel-item:first-child::after {align-self: flex-end;width: 50%;}#sk-container-id-1 div.sk-parallel-item:last-child::after {align-self: flex-start;width: 50%;}#sk-container-id-1 div.sk-parallel-item:only-child::after {width: 0;}#sk-container-id-1 div.sk-dashed-wrapped {border: 1px dashed gray;margin: 0 0.4em 0.5em 0.4em;box-sizing: border-box;padding-bottom: 0.4em;background-color: white;}#sk-container-id-1 div.sk-label label {font-family: monospace;font-weight: bold;display: inline-block;line-height: 1.2em;}#sk-container-id-1 div.sk-label-container {text-align: center;}#sk-container-id-1 div.sk-container {/* jupyter's `normalize.less` sets `[hidden] { display: none; }` but bootstrap.min.css set `[hidden] { display: none !important; }` so we also need the `!important` here to be able to override the default hidden behavior on the sphinx rendered scikit-learn.org. See: https://github.com/scikit-learn/scikit-learn/issues/21755 */display: inline-block !important;position: relative;}#sk-container-id-1 div.sk-text-repr-fallback {display: none;}</style><div id=\"sk-container-id-1\" class=\"sk-top-container\"><div class=\"sk-text-repr-fallback\"><pre>RandomForestClassifier(random_state=42)</pre><b>In a Jupyter environment, please rerun this cell to show the HTML representation or trust the notebook. <br />On GitHub, the HTML representation is unable to render, please try loading this page with nbviewer.org.</b></div><div class=\"sk-container\" hidden><div class=\"sk-item\"><div class=\"sk-estimator sk-toggleable\"><input class=\"sk-toggleable__control sk-hidden--visually\" id=\"sk-estimator-id-1\" type=\"checkbox\" checked><label for=\"sk-estimator-id-1\" class=\"sk-toggleable__label sk-toggleable__label-arrow\">RandomForestClassifier</label><div class=\"sk-toggleable__content\"><pre>RandomForestClassifier(random_state=42)</pre></div></div></div></div></div>"
      ],
      "text/plain": [
       "RandomForestClassifier(random_state=42)"
      ]
     },
     "execution_count": 16,
     "metadata": {},
     "output_type": "execute_result"
    }
   ],
   "source": [
    "model.fit(sel_X_train,y_train)"
   ]
  },
  {
   "cell_type": "code",
   "execution_count": 17,
   "id": "bac58500-2916-4ece-854d-734dbaf38fb2",
   "metadata": {},
   "outputs": [],
   "source": [
    "y_pred=model.predict(sel_X_test)"
   ]
  },
  {
   "cell_type": "code",
   "execution_count": 19,
   "id": "09452326-b118-47b9-8cc0-28ca862204d5",
   "metadata": {},
   "outputs": [
    {
     "name": "stdout",
     "output_type": "stream",
     "text": [
      "Accuracy:  1.0\n"
     ]
    }
   ],
   "source": [
    "print(\"Accuracy: \",accuracy_score(y_test,y_pred))"
   ]
  }
 ],
 "metadata": {
  "kernelspec": {
   "display_name": "Python 3 (ipykernel)",
   "language": "python",
   "name": "python3"
  },
  "language_info": {
   "codemirror_mode": {
    "name": "ipython",
    "version": 3
   },
   "file_extension": ".py",
   "mimetype": "text/x-python",
   "name": "python",
   "nbconvert_exporter": "python",
   "pygments_lexer": "ipython3",
   "version": "3.10.9"
  }
 },
 "nbformat": 4,
 "nbformat_minor": 5
}
